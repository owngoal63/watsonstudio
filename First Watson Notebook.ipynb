{
    "cells": [
        {
            "cell_type": "markdown",
            "metadata": {},
            "source": "# My Jupyter Notebook on IBM Watson Studio"
        },
        {
            "cell_type": "markdown",
            "metadata": {},
            "source": "**Gordon Lindsay**\n\nData Scientist"
        },
        {
            "cell_type": "markdown",
            "metadata": {},
            "source": "*I am interested in data science because I have a passion for making sense of data and sharing insights to reveal information that was previously unknown or not fully understood*"
        },
        {
            "cell_type": "markdown",
            "metadata": {},
            "source": "### The below code loops through integers from 0 to 10"
        },
        {
            "cell_type": "code",
            "execution_count": 5,
            "metadata": {},
            "outputs": [
                {
                    "name": "stdout",
                    "output_type": "stream",
                    "text": "0\n1\n2\n3\n4\n5\n6\n7\n8\n9\n10\n"
                }
            ],
            "source": "for i in range(11):\n    print(i)"
        },
        {
            "cell_type": "markdown",
            "metadata": {},
            "source": "<hr>\n<ul>\n    <li> First Item\n    <li> Second Item\n    <li> Third Item\n</ul>\n\n| Name | Age |\n| ---- | --- |\n| Dave | 28 |\n| Sue  | 31 |\n| John | 50 |"
        },
        {
            "cell_type": "code",
            "execution_count": null,
            "metadata": {},
            "outputs": [],
            "source": ""
        }
    ],
    "metadata": {
        "kernelspec": {
            "display_name": "Python 3.7",
            "language": "python",
            "name": "python3"
        },
        "language_info": {
            "codemirror_mode": {
                "name": "ipython",
                "version": 3
            },
            "file_extension": ".py",
            "mimetype": "text/x-python",
            "name": "python",
            "nbconvert_exporter": "python",
            "pygments_lexer": "ipython3",
            "version": "3.7.10"
        }
    },
    "nbformat": 4,
    "nbformat_minor": 1
}